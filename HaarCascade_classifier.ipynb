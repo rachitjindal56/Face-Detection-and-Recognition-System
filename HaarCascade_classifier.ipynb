{
  "nbformat": 4,
  "nbformat_minor": 0,
  "metadata": {
    "colab": {
      "name": "Untitled4.ipynb",
      "provenance": [],
      "authorship_tag": "ABX9TyNrUtcJTOMKvSRvu5X/0UHR",
      "include_colab_link": true
    },
    "kernelspec": {
      "name": "python3",
      "display_name": "Python 3"
    }
  },
  "cells": [
    {
      "cell_type": "markdown",
      "metadata": {
        "id": "view-in-github",
        "colab_type": "text"
      },
      "source": [
        "<a href=\"https://colab.research.google.com/github/rachitjindal56/Face-Recognition-System/blob/master/HaarCascade_classifier.ipynb\" target=\"_parent\"><img src=\"https://colab.research.google.com/assets/colab-badge.svg\" alt=\"Open In Colab\"/></a>"
      ]
    },
    {
      "cell_type": "code",
      "metadata": {
        "id": "VCb_pNj37uvK",
        "colab_type": "code",
        "colab": {}
      },
      "source": [
        "from google.colab import files\n",
        "import cv2\n",
        "import numpy as np\n",
        "import io\n",
        "import matplotlib.pyplot as plt\n",
        "\n",
        "cap = cv2.VideoCapture(0)\n",
        "frame_cascade = cv2.CascadeClassifier('Haar_Cascade.xml')\n",
        "face_data = []\n",
        "data_train = []\n",
        "\n",
        "while True:\n",
        "  ret,frame = cv2.read()\n",
        "\n",
        "  if ret == False:\n",
        "    continue\n",
        "  \n",
        "  faces = face_cascade.detectMultiScale(frame,1.3,5)\n",
        "  faces = sorted(faces,key=lambda f:f[2]*f[3])\n",
        "\n",
        "  #Pick the last face as it is the largest as per the area(f[2]*f[3])\n",
        "  for face in faces[-1:]:\n",
        "    x,y,w,h = face\n",
        "    cv2.rectangle(frame,(x,y),(x+w,y+h),(0,255,255),4)\n",
        "\n",
        "    #Extract the region of interest of the face\n",
        "    offset =10\n",
        "    face_section = frame[y-offset;y+h+offset,x-offset:x+w+offset]\n",
        "    face_section = cv2.resize(face_section,(100,100))\n",
        "\n",
        "    skip += 1\n",
        "    if skip%10 ==0:\n",
        "      face_data.append(face_section)\n",
        "      print(len(face_data))\n",
        "\n",
        "  cv2.imshow(\"Frame\",frame)\n",
        "  cv2.imshow(\"Frame section\",face_section)\n",
        "\n",
        "  if(skip%10==0):\n",
        "    pass\n",
        "\n",
        "\n",
        "  key_pressed = cv2.waitkey(1) & 0xFF\n",
        "  if key_pressed == ord('q'):\n",
        "    break\n",
        "\n",
        "cap.release()\n",
        "cv2.destroyAllWindows()"
      ],
      "execution_count": 0,
      "outputs": []
    }
  ]
}